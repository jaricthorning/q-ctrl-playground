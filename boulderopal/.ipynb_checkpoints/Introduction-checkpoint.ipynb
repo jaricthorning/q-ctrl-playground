{
 "cells": [
  {
   "cell_type": "code",
   "execution_count": 2,
   "id": "e8132080-386c-41c9-90bd-dae733abf42d",
   "metadata": {},
   "outputs": [],
   "source": [
    "import boulderopal as bo"
   ]
  },
  {
   "cell_type": "code",
   "execution_count": 5,
   "id": "615ca689-3bf5-4b30-be6d-b978ead55628",
   "metadata": {},
   "outputs": [],
   "source": [
    "bo.cloud.set_organization(\"jaric-thorning\")"
   ]
  },
  {
   "cell_type": "code",
   "execution_count": 7,
   "id": "16bf9f7c-2a57-487e-a988-db5570e41428",
   "metadata": {},
   "outputs": [
    {
     "name": "stdout",
     "output_type": "stream",
     "text": [
      "\n",
      "Authentication URL:\n",
      "\n",
      "https://id.q-ctrl.com/auth/realms/q-ctrl/protocol/openid-connect/auth?response_type=code&client_id=cli-python&redirect_uri=http%3A%2F%2Flocalhost%3A8000&scope=openid+profile+email+offline_access&state=uS0hg1qEzoz5bxPmGxKU7uBlj8PAZj\n",
      "\n",
      "The URL above should be automatically opened in your default web browser.\n",
      "(Please copy and paste in case it doesn't open automatically)\n",
      "\n",
      "Authenticate your credentials in your browser...\n",
      "\n",
      "Finalizing authentication...\n",
      "Successful authentication!\n",
      "Waiting for 1 machine to be online...\n",
      "Current environment: 0 machines online, 1 machine pending.\n",
      "Current environment: 1 machine online, 0 machines pending.\n",
      "Requested machines (1) are online.\n"
     ]
    }
   ],
   "source": [
    "bo.cloud.request_machines(1)"
   ]
  },
  {
   "cell_type": "code",
   "execution_count": 8,
   "id": "ffe6fe56-3552-4352-bce0-51350570b65e",
   "metadata": {},
   "outputs": [
    {
     "name": "stdout",
     "output_type": "stream",
     "text": [
      "Your task (action_id=\"1914976\") has completed.\n",
      "π-pulse infidelity: 4.441e-16\n"
     ]
    }
   ],
   "source": [
    "# Run a simple π-pulse simulation and print the resulting infidelity.\n",
    "import numpy as np\n",
    "\n",
    "graph = bo.Graph()\n",
    "amplitude = np.pi * 1e5  # rad/s\n",
    "duration = 5e-6  # s\n",
    "pi_pulse = graph.constant_pwc(amplitude, duration)\n",
    "infidelity = graph.infidelity_pwc(\n",
    "    hamiltonian=pi_pulse * graph.pauli_matrix(\"X\"),\n",
    "    target=graph.target(graph.pauli_matrix(\"X\")),\n",
    "    name=\"infidelity\",\n",
    ")\n",
    "result = bo.execute_graph(graph, \"infidelity\")\n",
    "print(f\"π-pulse infidelity: {result['output']['infidelity']['value']:.3e}\")"
   ]
  }
 ],
 "metadata": {
  "kernelspec": {
   "display_name": "Python 3 (ipykernel)",
   "language": "python",
   "name": "python3"
  },
  "language_info": {
   "codemirror_mode": {
    "name": "ipython",
    "version": 3
   },
   "file_extension": ".py",
   "mimetype": "text/x-python",
   "name": "python",
   "nbconvert_exporter": "python",
   "pygments_lexer": "ipython3",
   "version": "3.11.7"
  }
 },
 "nbformat": 4,
 "nbformat_minor": 5
}
