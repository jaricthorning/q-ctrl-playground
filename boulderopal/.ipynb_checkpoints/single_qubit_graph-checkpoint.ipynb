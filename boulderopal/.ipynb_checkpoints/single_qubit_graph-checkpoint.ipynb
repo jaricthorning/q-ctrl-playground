{
 "cells": [
  {
   "cell_type": "code",
   "execution_count": 1,
   "id": "4476b9c7-fc73-49dc-8dba-bbcef7f2748f",
   "metadata": {},
   "outputs": [],
   "source": [
    "# Import packages.\n",
    "import numpy as np\n",
    "import matplotlib.pyplot as plt\n",
    "import qctrlvisualizer\n",
    "import boulderopal as bo\n",
    "\n",
    "# Apply Q-CTRL style to plots created in pyplot.\n",
    "plt.style.use(qctrlvisualizer.get_qctrl_style())"
   ]
  },
  {
   "cell_type": "code",
   "execution_count": 2,
   "id": "74b3318f-257d-47c3-9b5b-b818e6b44dd3",
   "metadata": {},
   "outputs": [],
   "source": [
    "graph = bo.Graph()"
   ]
  },
  {
   "cell_type": "code",
   "execution_count": 3,
   "id": "fa42fac4-6773-455a-af36-322a76e20656",
   "metadata": {},
   "outputs": [],
   "source": [
    "# Pulse parameters.\n",
    "segment_count = 50\n",
    "duration = 10e-6  # s\n",
    "\n",
    "# Maximum value for |α(t)|.\n",
    "alpha_max = 2 * np.pi * 0.25e6  # rad/s\n",
    "\n",
    "# Real PWC signal representing α(t).\n",
    "alpha = graph.real_optimizable_pwc_signal(\n",
    "    segment_count=segment_count,\n",
    "    duration=duration,\n",
    "    minimum=-alpha_max,\n",
    "    maximum=alpha_max,\n",
    "    name=\"$\\\\alpha$\",\n",
    ")"
   ]
  },
  {
   "cell_type": "code",
   "execution_count": 4,
   "id": "0600f7e5-37b4-42a4-9dfd-133df62b3ce8",
   "metadata": {},
   "outputs": [],
   "source": [
    "# Maximum value for |γ(t)|.\n",
    "gamma_max = 2 * np.pi * 0.5e6  # rad/s\n",
    "\n",
    "# Complex PWC signal representing γ(t)\n",
    "gamma = graph.complex_optimizable_pwc_signal(\n",
    "    segment_count=segment_count, duration=duration, maximum=gamma_max, name=\"$\\\\gamma$\"\n",
    ")"
   ]
  },
  {
   "cell_type": "code",
   "execution_count": 5,
   "id": "049b6538-7c60-4133-9b5f-27f472f0876d",
   "metadata": {},
   "outputs": [],
   "source": [
    "# Detuning δ.\n",
    "delta = 2 * np.pi * 0.25e6  # rad/s\n",
    "\n",
    "# Total Hamiltonian.\n",
    "hamiltonian = (\n",
    "    alpha * graph.pauli_matrix(\"Z\")\n",
    "    + graph.hermitian_part(gamma * graph.pauli_matrix(\"M\"))\n",
    "    + delta * graph.pauli_matrix(\"Z\")\n",
    ")"
   ]
  },
  {
   "cell_type": "code",
   "execution_count": 6,
   "id": "c20b76a0-e2c9-4e0a-b744-6b6b2b58710e",
   "metadata": {},
   "outputs": [],
   "source": [
    "# Target operation node.\n",
    "target = graph.target(operator=graph.pauli_matrix(\"Y\"))"
   ]
  },
  {
   "cell_type": "code",
   "execution_count": 7,
   "id": "661f695d-2b18-4b36-a738-6c72b8fa4a25",
   "metadata": {},
   "outputs": [],
   "source": [
    "# Dephasing noise amplitude.\n",
    "# beta = 2 * np.pi * 20e3  # rad/s\n",
    "\n",
    "# No Noise amplitude - \n",
    "beta = 0\n",
    "\n",
    "# (Constant) dephasing noise term.\n",
    "dephasing = beta * graph.pauli_matrix(\"Z\")"
   ]
  },
  {
   "cell_type": "code",
   "execution_count": 8,
   "id": "a35bde80-1db1-469f-aec8-581b91f09784",
   "metadata": {},
   "outputs": [
    {
     "ename": "QctrlArgumentsValueError",
     "evalue": "There is already a node named 'robust_infidelity' in the graph.\nname='robust_infidelity'",
     "output_type": "error",
     "traceback": [
      "\u001b[0;31m---------------------------------------------------------------------------\u001b[0m",
      "\u001b[0;31mQctrlArgumentsValueError\u001b[0m                  Traceback (most recent call last)",
      "Cell \u001b[0;32mIn[8], line 11\u001b[0m\n\u001b[1;32m      2\u001b[0m robust_infidelity \u001b[38;5;241m=\u001b[39m graph\u001b[38;5;241m.\u001b[39minfidelity_pwc(\n\u001b[1;32m      3\u001b[0m     hamiltonian\u001b[38;5;241m=\u001b[39mhamiltonian,\n\u001b[1;32m      4\u001b[0m     noise_operators\u001b[38;5;241m=\u001b[39m[dephasing],\n\u001b[1;32m      5\u001b[0m     target\u001b[38;5;241m=\u001b[39mtarget,\n\u001b[1;32m      6\u001b[0m     name\u001b[38;5;241m=\u001b[39m\u001b[38;5;124m\"\u001b[39m\u001b[38;5;124mrobust_infidelity\u001b[39m\u001b[38;5;124m\"\u001b[39m,\n\u001b[1;32m      7\u001b[0m )\n\u001b[1;32m      9\u001b[0m \u001b[38;5;66;03m# With no noise - \u001b[39;00m\n\u001b[0;32m---> 11\u001b[0m robust_infidelity \u001b[38;5;241m=\u001b[39m \u001b[43mgraph\u001b[49m\u001b[38;5;241;43m.\u001b[39;49m\u001b[43minfidelity_pwc\u001b[49m\u001b[43m(\u001b[49m\n\u001b[1;32m     12\u001b[0m \u001b[43m    \u001b[49m\u001b[43mhamiltonian\u001b[49m\u001b[38;5;241;43m=\u001b[39;49m\u001b[43mhamiltonian\u001b[49m\u001b[43m,\u001b[49m\n\u001b[1;32m     13\u001b[0m \u001b[43m    \u001b[49m\u001b[43mnoise_operators\u001b[49m\u001b[38;5;241;43m=\u001b[39;49m\u001b[43m[\u001b[49m\u001b[43m]\u001b[49m\u001b[43m,\u001b[49m\n\u001b[1;32m     14\u001b[0m \u001b[43m    \u001b[49m\u001b[43mtarget\u001b[49m\u001b[38;5;241;43m=\u001b[39;49m\u001b[43mtarget\u001b[49m\u001b[43m,\u001b[49m\n\u001b[1;32m     15\u001b[0m \u001b[43m    \u001b[49m\u001b[43mname\u001b[49m\u001b[38;5;241;43m=\u001b[39;49m\u001b[38;5;124;43m\"\u001b[39;49m\u001b[38;5;124;43mrobust_infidelity\u001b[39;49m\u001b[38;5;124;43m\"\u001b[39;49m\u001b[43m,\u001b[49m\n\u001b[1;32m     16\u001b[0m \u001b[43m)\u001b[49m\n",
      "File \u001b[0;32m~/Library/Caches/pypoetry/virtualenvs/q-ctrl-_67EYHOT-py3.11/lib/python3.11/site-packages/boulderopal/_validation/pydantic.py:286\u001b[0m, in \u001b[0;36m_v2_validated.<locals>.wrapper\u001b[0;34m(*args, **kwargs)\u001b[0m\n\u001b[1;32m    284\u001b[0m \u001b[38;5;129m@wraps\u001b[39m(func)\n\u001b[1;32m    285\u001b[0m \u001b[38;5;28;01mdef\u001b[39;00m \u001b[38;5;21mwrapper\u001b[39m(\u001b[38;5;241m*\u001b[39margs: P\u001b[38;5;241m.\u001b[39margs, \u001b[38;5;241m*\u001b[39m\u001b[38;5;241m*\u001b[39mkwargs: P\u001b[38;5;241m.\u001b[39mkwargs) \u001b[38;5;241m-\u001b[39m\u001b[38;5;241m>\u001b[39m R:\n\u001b[0;32m--> 286\u001b[0m     \u001b[38;5;28;01mreturn\u001b[39;00m \u001b[43mvalidate_call\u001b[49m\u001b[43m(\u001b[49m\u001b[43mfunc\u001b[49m\u001b[43m,\u001b[49m\u001b[43m \u001b[49m\u001b[43mconfig\u001b[49m\u001b[38;5;241;43m=\u001b[39;49m\u001b[43mConfigDict\u001b[49m\u001b[43m(\u001b[49m\u001b[43marbitrary_types_allowed\u001b[49m\u001b[38;5;241;43m=\u001b[39;49m\u001b[38;5;28;43;01mTrue\u001b[39;49;00m\u001b[43m)\u001b[49m\u001b[43m)\u001b[49m\u001b[43m(\u001b[49m\u001b[43m  \u001b[49m\u001b[38;5;66;43;03m# type: ignore\u001b[39;49;00m\n\u001b[1;32m    287\u001b[0m \u001b[43m        \u001b[49m\u001b[38;5;241;43m*\u001b[39;49m\u001b[43margs\u001b[49m\u001b[43m,\u001b[49m\u001b[43m \u001b[49m\u001b[38;5;241;43m*\u001b[39;49m\u001b[38;5;241;43m*\u001b[39;49m\u001b[43mkwargs\u001b[49m\n\u001b[1;32m    288\u001b[0m \u001b[43m    \u001b[49m\u001b[43m)\u001b[49m\n",
      "File \u001b[0;32m~/Library/Caches/pypoetry/virtualenvs/q-ctrl-_67EYHOT-py3.11/lib/python3.11/site-packages/pydantic/validate_call_decorator.py:58\u001b[0m, in \u001b[0;36mvalidate_call.<locals>.validate.<locals>.wrapper_function\u001b[0;34m(*args, **kwargs)\u001b[0m\n\u001b[1;32m     56\u001b[0m \u001b[38;5;129m@functools\u001b[39m\u001b[38;5;241m.\u001b[39mwraps(function)\n\u001b[1;32m     57\u001b[0m \u001b[38;5;28;01mdef\u001b[39;00m \u001b[38;5;21mwrapper_function\u001b[39m(\u001b[38;5;241m*\u001b[39margs, \u001b[38;5;241m*\u001b[39m\u001b[38;5;241m*\u001b[39mkwargs):\n\u001b[0;32m---> 58\u001b[0m     \u001b[38;5;28;01mreturn\u001b[39;00m \u001b[43mvalidate_call_wrapper\u001b[49m\u001b[43m(\u001b[49m\u001b[38;5;241;43m*\u001b[39;49m\u001b[43margs\u001b[49m\u001b[43m,\u001b[49m\u001b[43m \u001b[49m\u001b[38;5;241;43m*\u001b[39;49m\u001b[38;5;241;43m*\u001b[39;49m\u001b[43mkwargs\u001b[49m\u001b[43m)\u001b[49m\n",
      "File \u001b[0;32m~/Library/Caches/pypoetry/virtualenvs/q-ctrl-_67EYHOT-py3.11/lib/python3.11/site-packages/pydantic/_internal/_validate_call.py:81\u001b[0m, in \u001b[0;36mValidateCallWrapper.__call__\u001b[0;34m(self, *args, **kwargs)\u001b[0m\n\u001b[1;32m     80\u001b[0m \u001b[38;5;28;01mdef\u001b[39;00m \u001b[38;5;21m__call__\u001b[39m(\u001b[38;5;28mself\u001b[39m, \u001b[38;5;241m*\u001b[39margs: Any, \u001b[38;5;241m*\u001b[39m\u001b[38;5;241m*\u001b[39mkwargs: Any) \u001b[38;5;241m-\u001b[39m\u001b[38;5;241m>\u001b[39m Any:\n\u001b[0;32m---> 81\u001b[0m     res \u001b[38;5;241m=\u001b[39m \u001b[38;5;28mself\u001b[39m\u001b[38;5;241m.\u001b[39m__pydantic_validator__\u001b[38;5;241m.\u001b[39mvalidate_python(pydantic_core\u001b[38;5;241m.\u001b[39mArgsKwargs(args, kwargs))\n\u001b[1;32m     82\u001b[0m     \u001b[38;5;28;01mif\u001b[39;00m \u001b[38;5;28mself\u001b[39m\u001b[38;5;241m.\u001b[39m__return_pydantic_validator__:\n\u001b[1;32m     83\u001b[0m         \u001b[38;5;28;01mreturn\u001b[39;00m \u001b[38;5;28mself\u001b[39m\u001b[38;5;241m.\u001b[39m__return_pydantic_validator__(res)\n",
      "File \u001b[0;32m~/Library/Caches/pypoetry/virtualenvs/q-ctrl-_67EYHOT-py3.11/lib/python3.11/site-packages/boulderopal/_nodes/infidelity.py:325\u001b[0m, in \u001b[0;36mInfidelityGraph.infidelity_pwc\u001b[0;34m(self, hamiltonian, target, noise_operators, name)\u001b[0m\n\u001b[1;32m    204\u001b[0m \u001b[38;5;250m\u001b[39m\u001b[38;5;124mr\u001b[39m\u001b[38;5;124;03m\"\"\"\u001b[39;00m\n\u001b[1;32m    205\u001b[0m \u001b[38;5;124;03mCreate the total infidelity of the given piecewise-constant system.\u001b[39;00m\n\u001b[1;32m    206\u001b[0m \n\u001b[0;32m   (...)\u001b[0m\n\u001b[1;32m    320\u001b[0m \u001b[38;5;124;03mwith-nonlinear-dependences>`_ user guide.\u001b[39;00m\n\u001b[1;32m    321\u001b[0m \u001b[38;5;124;03m\"\"\"\u001b[39;00m\n\u001b[1;32m    323\u001b[0m shape \u001b[38;5;241m=\u001b[39m _validate_infidelity_input(hamiltonian, target, noise_operators)\n\u001b[0;32m--> 325\u001b[0m operation \u001b[38;5;241m=\u001b[39m \u001b[43mcreate_operation\u001b[49m\u001b[43m(\u001b[49m\u001b[38;5;28;43mself\u001b[39;49m\u001b[38;5;241;43m.\u001b[39;49m\u001b[43minfidelity_pwc\u001b[49m\u001b[43m,\u001b[49m\u001b[43m \u001b[49m\u001b[38;5;28;43mlocals\u001b[39;49m\u001b[43m(\u001b[49m\u001b[43m)\u001b[49m\u001b[43m)\u001b[49m\n\u001b[1;32m    326\u001b[0m \u001b[38;5;28;01mreturn\u001b[39;00m Tensor(operation, shape\u001b[38;5;241m=\u001b[39mshape)\n",
      "File \u001b[0;32m~/Library/Caches/pypoetry/virtualenvs/q-ctrl-_67EYHOT-py3.11/lib/python3.11/site-packages/boulderopal/_nodes/base.py:68\u001b[0m, in \u001b[0;36mcreate_operation\u001b[0;34m(obj, kwargs, graph, name)\u001b[0m\n\u001b[1;32m     64\u001b[0m expected_kwargs \u001b[38;5;241m=\u001b[39m {\n\u001b[1;32m     65\u001b[0m     key: kwargs[key] \u001b[38;5;28;01mfor\u001b[39;00m key \u001b[38;5;129;01min\u001b[39;00m obj\u001b[38;5;241m.\u001b[39m\u001b[38;5;18m__annotations__\u001b[39m\u001b[38;5;241m.\u001b[39mkeys() \u001b[38;5;28;01mif\u001b[39;00m key \u001b[38;5;241m!=\u001b[39m \u001b[38;5;124m\"\u001b[39m\u001b[38;5;124mreturn\u001b[39m\u001b[38;5;124m\"\u001b[39m\n\u001b[1;32m     66\u001b[0m }\n\u001b[1;32m     67\u001b[0m operation_name \u001b[38;5;241m=\u001b[39m name \u001b[38;5;129;01mor\u001b[39;00m obj\u001b[38;5;241m.\u001b[39m\u001b[38;5;18m__name__\u001b[39m\n\u001b[0;32m---> 68\u001b[0m \u001b[38;5;28;01mreturn\u001b[39;00m \u001b[43mOperation\u001b[49m\u001b[43m(\u001b[49m\u001b[43mgraph\u001b[49m\u001b[43m,\u001b[49m\u001b[43m \u001b[49m\u001b[43moperation_name\u001b[49m\u001b[43m,\u001b[49m\u001b[43m \u001b[49m\u001b[38;5;28;43;01mFalse\u001b[39;49;00m\u001b[43m,\u001b[49m\u001b[43m \u001b[49m\u001b[38;5;241;43m*\u001b[39;49m\u001b[38;5;241;43m*\u001b[39;49m\u001b[43mexpected_kwargs\u001b[49m\u001b[43m)\u001b[49m\n",
      "File \u001b[0;32m~/Library/Caches/pypoetry/virtualenvs/q-ctrl-_67EYHOT-py3.11/lib/python3.11/site-packages/qctrlcommons/node/wrapper.py:45\u001b[0m, in \u001b[0;36mOperation.__init__\u001b[0;34m(self, graph, operation_name, optimizable_variable, *args, **kwargs)\u001b[0m\n\u001b[1;32m     43\u001b[0m     node_name \u001b[38;5;241m=\u001b[39m operation_name \u001b[38;5;241m+\u001b[39m \u001b[38;5;124m\"\u001b[39m\u001b[38;5;124m_#\u001b[39m\u001b[38;5;124m\"\u001b[39m \u001b[38;5;241m+\u001b[39m \u001b[38;5;28mstr\u001b[39m(\u001b[38;5;28mlen\u001b[39m(\u001b[38;5;28mself\u001b[39m\u001b[38;5;241m.\u001b[39mgraph\u001b[38;5;241m.\u001b[39moperations))\n\u001b[1;32m     44\u001b[0m \u001b[38;5;28;01melse\u001b[39;00m:\n\u001b[0;32m---> 45\u001b[0m     \u001b[38;5;28;43mself\u001b[39;49m\u001b[38;5;241;43m.\u001b[39;49m\u001b[43m_check_node_name\u001b[49m\u001b[43m(\u001b[49m\u001b[43mnode_name\u001b[49m\u001b[43m)\u001b[49m\n\u001b[1;32m     47\u001b[0m \u001b[38;5;28mself\u001b[39m\u001b[38;5;241m.\u001b[39mset_name(node_name)\n\u001b[1;32m     48\u001b[0m \u001b[38;5;28mself\u001b[39m\u001b[38;5;241m.\u001b[39moperation_name \u001b[38;5;241m=\u001b[39m operation_name\n",
      "File \u001b[0;32m~/Library/Caches/pypoetry/virtualenvs/q-ctrl-_67EYHOT-py3.11/lib/python3.11/site-packages/qctrlcommons/node/wrapper.py:123\u001b[0m, in \u001b[0;36mOperation._check_node_name\u001b[0;34m(self, name)\u001b[0m\n\u001b[1;32m    120\u001b[0m \u001b[38;5;28;01mif\u001b[39;00m name \u001b[38;5;129;01min\u001b[39;00m \u001b[38;5;28mself\u001b[39m\u001b[38;5;241m.\u001b[39mgraph\u001b[38;5;241m.\u001b[39moperations:\n\u001b[1;32m    121\u001b[0m     \u001b[38;5;66;03m# Exclude the case when the renamed name is the same as the old name.\u001b[39;00m\n\u001b[1;32m    122\u001b[0m     \u001b[38;5;28;01mif\u001b[39;00m \u001b[38;5;28mself\u001b[39m\u001b[38;5;241m.\u001b[39mgraph\u001b[38;5;241m.\u001b[39moperations[name] \u001b[38;5;129;01mis\u001b[39;00m \u001b[38;5;129;01mnot\u001b[39;00m \u001b[38;5;28mself\u001b[39m:\n\u001b[0;32m--> 123\u001b[0m         \u001b[38;5;28;01mraise\u001b[39;00m QctrlArgumentsValueError(\n\u001b[1;32m    124\u001b[0m             \u001b[38;5;124mf\u001b[39m\u001b[38;5;124m\"\u001b[39m\u001b[38;5;124mThere is already a node named \u001b[39m\u001b[38;5;124m'\u001b[39m\u001b[38;5;132;01m{\u001b[39;00mname\u001b[38;5;132;01m}\u001b[39;00m\u001b[38;5;124m'\u001b[39m\u001b[38;5;124m in the graph.\u001b[39m\u001b[38;5;124m\"\u001b[39m,\n\u001b[1;32m    125\u001b[0m             {\u001b[38;5;124m\"\u001b[39m\u001b[38;5;124mname\u001b[39m\u001b[38;5;124m\"\u001b[39m: name},\n\u001b[1;32m    126\u001b[0m         )\n\u001b[1;32m    127\u001b[0m \u001b[38;5;28;01mif\u001b[39;00m \u001b[38;5;124m\"\u001b[39m\u001b[38;5;124m#\u001b[39m\u001b[38;5;124m\"\u001b[39m \u001b[38;5;129;01min\u001b[39;00m name:\n\u001b[1;32m    128\u001b[0m     \u001b[38;5;28;01mraise\u001b[39;00m QctrlArgumentsValueError(\n\u001b[1;32m    129\u001b[0m         \u001b[38;5;124mf\u001b[39m\u001b[38;5;124m\"\u001b[39m\u001b[38;5;124m'\u001b[39m\u001b[38;5;124m#\u001b[39m\u001b[38;5;124m'\u001b[39m\u001b[38;5;124m is not allowed in the node name: \u001b[39m\u001b[38;5;124m'\u001b[39m\u001b[38;5;132;01m{\u001b[39;00mname\u001b[38;5;132;01m}\u001b[39;00m\u001b[38;5;124m'\u001b[39m\u001b[38;5;124m.\u001b[39m\u001b[38;5;124m\"\u001b[39m, {\u001b[38;5;124m\"\u001b[39m\u001b[38;5;124mname\u001b[39m\u001b[38;5;124m\"\u001b[39m: name}\n\u001b[1;32m    130\u001b[0m     )\n",
      "\u001b[0;31mQctrlArgumentsValueError\u001b[0m: There is already a node named 'robust_infidelity' in the graph.\nname='robust_infidelity'"
     ]
    }
   ],
   "source": [
    "# Robust infidelity.\n",
    "robust_infidelity = graph.infidelity_pwc(\n",
    "    hamiltonian=hamiltonian,\n",
    "    noise_operators=[dephasing],\n",
    "    target=target,\n",
    "    name=\"robust_infidelity\",\n",
    ")"
   ]
  },
  {
   "cell_type": "code",
   "execution_count": null,
   "id": "45026a3e-c761-4103-9d35-2be9d1878c0a",
   "metadata": {},
   "outputs": [],
   "source": [
    "optimization_result = bo.run_optimization(\n",
    "    graph=graph,\n",
    "    cost_node_name=\"robust_infidelity\",\n",
    "    output_node_names=[\"$\\\\alpha$\", \"$\\\\gamma$\"],\n",
    ")"
   ]
  },
  {
   "cell_type": "code",
   "execution_count": null,
   "id": "54078185-6199-424d-8292-49c66f900785",
   "metadata": {},
   "outputs": [],
   "source": [
    "print(f\"Optimized robust cost: {optimization_result['cost']:.3e}\")"
   ]
  },
  {
   "cell_type": "code",
   "execution_count": null,
   "id": "0c916e81-4f3e-45b3-9c26-cd3d0f77f0e3",
   "metadata": {},
   "outputs": [],
   "source": [
    "qctrlvisualizer.plot_controls(optimization_result[\"output\"])"
   ]
  }
 ],
 "metadata": {
  "kernelspec": {
   "display_name": "Python 3 (ipykernel)",
   "language": "python",
   "name": "python3"
  },
  "language_info": {
   "codemirror_mode": {
    "name": "ipython",
    "version": 3
   },
   "file_extension": ".py",
   "mimetype": "text/x-python",
   "name": "python",
   "nbconvert_exporter": "python",
   "pygments_lexer": "ipython3",
   "version": "3.11.7"
  }
 },
 "nbformat": 4,
 "nbformat_minor": 5
}
